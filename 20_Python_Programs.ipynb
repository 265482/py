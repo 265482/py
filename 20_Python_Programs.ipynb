{
 "cells": [
  {
   "cell_type": "code",
   "execution_count": 3,
   "metadata": {
    "colab": {
     "base_uri": "https://localhost:8080/"
    },
    "id": "7ys1l31Qof-g",
    "outputId": "3a93016a-c075-4095-9e2c-3dc5742e4d50"
   },
   "outputs": [
    {
     "name": "stdout",
     "output_type": "stream",
     "text": [
      "85\n",
      "85\n",
      "170\n"
     ]
    }
   ],
   "source": [
    "#1 additioin of two user defined number\n",
    "x = input()\n",
    "y = input()\n",
    "\n",
    "print(int(x) + int(y))\n"
   ]
  },
  {
   "cell_type": "code",
   "execution_count": 4,
   "metadata": {
    "colab": {
     "base_uri": "https://localhost:8080/"
    },
    "id": "_MD_uYEMxBBH",
    "outputId": "bf9dc95d-e27c-49ae-e8e0-1c83709176f4"
   },
   "outputs": [
    {
     "name": "stdout",
     "output_type": "stream",
     "text": [
      "Enter a number: 153\n",
      "153 is an Armstrong number\n"
     ]
    }
   ],
   "source": [
    "#2 to check whether a number is Armstrong or not\n",
    "\n",
    "def is_armstrong(n):\n",
    "    a = str(n)\n",
    "    b = len(a)\n",
    "    total = 0\n",
    "    for digit in a:\n",
    "        total += int(digit) ** b\n",
    "    return total == n\n",
    "\n",
    "# Test the function\n",
    "a = int(input(\"Enter a number: \"))\n",
    "if is_armstrong(a):\n",
    "    print(a, \"is an Armstrong number\")\n",
    "else:\n",
    "    print(a, \"is not an Armstrong number\")"
   ]
  },
  {
   "cell_type": "code",
   "execution_count": 1,
   "metadata": {
    "colab": {
     "base_uri": "https://localhost:8080/"
    },
    "id": "wnFEns26yFVD",
    "outputId": "c463ab18-249a-48a6-8c65-3c342ab4e9aa"
   },
   "outputs": [
    {
     "name": "stdout",
     "output_type": "stream",
     "text": [
      "Enter a number: 85\n",
      "85 is not a prime number\n"
     ]
    }
   ],
   "source": [
    "#3 to check whether a number is prime or not\n",
    "\n",
    "def is_prime(n):\n",
    "    if n <= 1:\n",
    "        return False\n",
    "    for i in range(2, int(n**0.5) + 1):\n",
    "        if n % i == 0:\n",
    "            return False\n",
    "    return True\n",
    "\n",
    "# Test the function\n",
    "n = int(input(\"Enter a number: \"))\n",
    "if is_prime(n):\n",
    "    print(n, \"is a prime number\")\n",
    "else:\n",
    "    print(n, \"is not a prime number\")\n"
   ]
  },
  {
   "cell_type": "code",
   "execution_count": 5,
   "metadata": {
    "colab": {
     "base_uri": "https://localhost:8080/"
    },
    "id": "K2gOj1UT7j9T",
    "outputId": "8c8bba24-0650-463e-d4ee-9fd642b4116d"
   },
   "outputs": [
    {
     "name": "stdout",
     "output_type": "stream",
     "text": [
      "Enter elements of the array separated by spaces: apple banana kiwi watermelon\n",
      "Longest element in the array is: watermelon\n"
     ]
    }
   ],
   "source": [
    "#4 to check largest element of an aaray User Defined\n",
    "def longest_element(arr):\n",
    "    max_length = 0\n",
    "    longest = \"\"\n",
    "    for element in arr:\n",
    "        if len(element) > max_length:\n",
    "            max_length = len(element)\n",
    "            longest = element\n",
    "    return longest\n",
    "\n",
    "# Test the function\n",
    "arr = input(\"Enter elements of the array separated by spaces: \").split()\n",
    "longest = longest_element(arr)\n",
    "print(\"Longest element in the array is:\", longest)"
   ]
  },
  {
   "cell_type": "code",
   "execution_count": null,
   "metadata": {
    "colab": {
     "base_uri": "https://localhost:8080/"
    },
    "id": "2pBxLb1b8HNf",
    "outputId": "ea748d80-5c5b-452f-9f03-9dcb14dafdfa"
   },
   "outputs": [
    {
     "name": "stdout",
     "output_type": "stream",
     "text": [
      "Enter elements of the list separated by space: potato orange apple\n",
      "Original list: ['potato', 'orange', 'apple']\n",
      "Enter position of the first element to swap (starting from 0): 1\n",
      "Enter position of the second element to swap (starting from 0): 2\n",
      "List after swapping: ['potato', 'apple', 'orange']\n"
     ]
    }
   ],
   "source": [
    "#5 Swap 2 elements of a list in python (user defined position)\n",
    "# User input for list elements\n",
    "user_list = input(\"Enter elements of the list separated by space: \").split()\n",
    "\n",
    "# Display the original list\n",
    "print(\"Original list:\", user_list)\n",
    "\n",
    "# User input for positions of elements to swap\n",
    "pos1 = int(input(\"Enter position of the first element to swap (starting from 0): \"))\n",
    "pos2 = int(input(\"Enter position of the second element to swap (starting from 0): \"))\n",
    "\n",
    "# Swap the elements at the given positions\n",
    "user_list[pos1], user_list[pos2] = user_list[pos2], user_list[pos1]\n",
    "\n",
    "# Display the list after swapping\n",
    "print(\"List after swapping:\", user_list)\n"
   ]
  },
  {
   "cell_type": "code",
   "execution_count": 1,
   "metadata": {
    "colab": {
     "base_uri": "https://localhost:8080/"
    },
    "id": "0kDPnFbLI6tY",
    "outputId": "8ad8a4ff-6898-4045-f1f2-7fdecc314d44"
   },
   "outputs": [
    {
     "name": "stdout",
     "output_type": "stream",
     "text": [
      "Enter the numbers separated by spaces: 85 36 25 96 78 1315\n",
      "The original list: [85, 36, 25, 96, 78, 1315]\n",
      "The reversed list: [1315, 78, 96, 25, 36, 85]\n"
     ]
    }
   ],
   "source": [
    "#6 reversing a list\n",
    "# Input numbers from the user separated by space and convert them into a list of integers\n",
    "my_list = [int(x) for x in input(\"Enter the numbers separated by spaces: \").split()]\n",
    "\n",
    "print(\"The original list:\", my_list)\n",
    "\n",
    "# Reverse the list using the reverse() method\n",
    "reversed_list = my_list[::-1]\n",
    "\n",
    "print(\"The reversed list:\", reversed_list)"
   ]
  },
  {
   "cell_type": "code",
   "execution_count": 2,
   "metadata": {
    "colab": {
     "base_uri": "https://localhost:8080/"
    },
    "id": "XcqFL6YJKOhy",
    "outputId": "9202828b-d5eb-4cb5-ff87-6fbda3676825"
   },
   "outputs": [
    {
     "name": "stdout",
     "output_type": "stream",
     "text": [
      "Enter elements of the list seperated by space:44 66 63 52 58 59 74 79 77 \n",
      "Odd numbers: [63, 59, 79, 77]\n",
      "Even numbers: [44, 66, 52, 58, 74]\n"
     ]
    }
   ],
   "source": [
    "#7 Finding odd and even number in a list\n",
    "list1 =[int (x) for x in input(\"Enter elements of the list seperated by space:\").split()]\n",
    "\n",
    "odd = []\n",
    "even = []\n",
    "\n",
    "for number in list1:\n",
    "    if number % 2 == 0:\n",
    "        even.append(number)\n",
    "    else:\n",
    "        odd.append(number)\n",
    "\n",
    "print (\"Odd numbers:\", odd)\n",
    "print (\"Even numbers:\", even)"
   ]
  },
  {
   "cell_type": "code",
   "execution_count": null,
   "metadata": {
    "colab": {
     "base_uri": "https://localhost:8080/"
    },
    "id": "lCdUJY9bK14U",
    "outputId": "b37fded4-f185-4645-e727-8d56e9e183b9"
   },
   "outputs": [
    {
     "name": "stdout",
     "output_type": "stream",
     "text": [
      "[[10 10 10]\n",
      " [10 10 10]\n",
      " [10 10 10]]\n"
     ]
    }
   ],
   "source": [
    "#8 addition of 2 matrix\n",
    "import numpy as np\n",
    "x = [[1,2,3], [4,5,6], [7,8,9]]\n",
    "y = [[9,8,7,], [6,5,4,], [3,2,1]]\n",
    "r = np.array(x)+np.array(y)\n",
    "print(r)\n"
   ]
  },
  {
   "cell_type": "code",
   "execution_count": null,
   "metadata": {
    "colab": {
     "base_uri": "https://localhost:8080/"
    },
    "id": "uKr253GZKjk0",
    "outputId": "f30e567a-28bc-4852-fd6a-8af9ab5a7bee"
   },
   "outputs": [
    {
     "name": "stdout",
     "output_type": "stream",
     "text": [
      "[[19 22]\n",
      " [43 50]]\n"
     ]
    }
   ],
   "source": [
    "#9 Multiplication of two matrix\n",
    "import numpy as np\n",
    "x = [[1,2], [3,4]]\n",
    "y = [[5,6], [7,8]]\n",
    "r = np.dot(x,y)\n",
    "print(r)\n"
   ]
  },
  {
   "cell_type": "code",
   "execution_count": 1,
   "metadata": {
    "colab": {
     "base_uri": "https://localhost:8080/"
    },
    "id": "7NPgFqgiNiiq",
    "outputId": "fc33c0ab-7dcb-4be3-aaae-509028aadf77"
   },
   "outputs": [
    {
     "name": "stdout",
     "output_type": "stream",
     "text": [
      "Enter a number:789987\n",
      "789987 is a palindrome number\n"
     ]
    }
   ],
   "source": [
    "#10 checking a palindrome number\n",
    "def is_palindrome(n):\n",
    "    return str(n) == str(n)[::-1]\n",
    "n = int(input(\"Enter a number:\"))\n",
    "\n",
    "if is_palindrome(n):\n",
    "    print(n, \"is a palindrome number\")\n",
    "else:\n",
    "    print(n, \"is not a palindrome number\")"
   ]
  },
  {
   "cell_type": "code",
   "execution_count": 41,
   "metadata": {
    "colab": {
     "base_uri": "https://localhost:8080/"
    },
    "id": "VGjh7oyeOEH7",
    "outputId": "32b1be54-2c04-4554-bbac-983a3db208b8"
   },
   "outputs": [
    {
     "name": "stdout",
     "output_type": "stream",
     "text": [
      "6\n"
     ]
    }
   ],
   "source": [
    "#11 fniding the size of a tuple\n",
    "my_tuple = (1, 2, 3, 'a', 'b', 'c')\n",
    "\n",
    "tuple_size = len(my_tuple)\n",
    "\n",
    "print(tuple_size)"
   ]
  },
  {
   "cell_type": "code",
   "execution_count": 2,
   "metadata": {
    "colab": {
     "base_uri": "https://localhost:8080/"
    },
    "id": "LelXV3jze4T8",
    "outputId": "97eb6566-58e0-4775-b063-69ab15cba16a"
   },
   "outputs": [
    {
     "name": "stdout",
     "output_type": "stream",
     "text": [
      "Current Indian date and time: 2024-02-26 11:56:53.269362+05:30\n"
     ]
    }
   ],
   "source": [
    "#12 Printing current date and time\n",
    "from pytz import timezone \n",
    "from datetime import datetime\n",
    "\n",
    "ind_time = datetime.now(timezone(\"Asia/Kolkata\"))\n",
    "print(ind_time)"
   ]
  },
  {
   "cell_type": "code",
   "execution_count": 8,
   "metadata": {
    "colab": {
     "base_uri": "https://localhost:8080/"
    },
    "id": "I7xZGQZqfJs-",
    "outputId": "8fb4be2f-0bc3-4cb7-c657-aa73d63713b5"
   },
   "outputs": [
    {
     "name": "stdout",
     "output_type": "stream",
     "text": [
      " ****\n",
      "*    \n",
      "*  ***\n",
      "*   *\n",
      " *** \n",
      "\n"
     ]
    }
   ],
   "source": [
    "#13 Python code for printing pattern G\n",
    "pattern = \"\"\n",
    "pattern += \" ****\\n\"\n",
    "pattern += \"*    \\n\"\n",
    "pattern += \"*  ***\\n\"\n",
    "pattern += \"*   *\\n\"\n",
    "pattern += \" *** \\n\"\n",
    "\n",
    "print(pattern)\n"
   ]
  },
  {
   "cell_type": "code",
   "execution_count": 3,
   "metadata": {
    "colab": {
     "base_uri": "https://localhost:8080/"
    },
    "id": "WoJADwdohPal",
    "outputId": "f790c9f2-ca48-4bc4-aad7-af2aa916b68d"
   },
   "outputs": [
    {
     "name": "stdout",
     "output_type": "stream",
     "text": [
      "Enter the array elements seperated by spaces852 369 741 52 56 36\n",
      "the sum of the array is: 2106\n"
     ]
    }
   ],
   "source": [
    "#14 Pyhton code for sum of an array\n",
    "array = [int(x) for x in input(\"Enter the array elements seperated by spaces\").split()]\n",
    "print(\"the sum of the array is:\", sum(array))"
   ]
  },
  {
   "cell_type": "code",
   "execution_count": 4,
   "metadata": {
    "colab": {
     "base_uri": "https://localhost:8080/"
    },
    "id": "fPr4Br4_iBF8",
    "outputId": "c3da21ea-b85c-40b3-8695-7c6beb188ce4"
   },
   "outputs": [
    {
     "name": "stdout",
     "output_type": "stream",
     "text": [
      "Enter the value of 'n': 9\n",
      "Sum of squares of the first 9 natural numbers: 285\n"
     ]
    }
   ],
   "source": [
    "#15 To find sum of squares of first n user defined natural number\n",
    "\n",
    "# Get user input for the value of 'n'\n",
    "n = int(input(\"Enter the value of 'n': \"))\n",
    "\n",
    "# Calculate the sum of squares of first n natural numbers\n",
    "sum_of_squares = sum([i**2 for i in range(1, n+1)])\n",
    "\n",
    "# Print the result\n",
    "print(\"Sum of squares of the first\", n, \"natural numbers:\", sum_of_squares)\n"
   ]
  },
  {
   "cell_type": "code",
   "execution_count": 11,
   "metadata": {
    "colab": {
     "base_uri": "https://localhost:8080/"
    },
    "id": "5EVzy7GNinm2",
    "outputId": "dca6bf48-84fa-45e7-f1fa-1f5807baa12f"
   },
   "outputs": [
    {
     "name": "stdout",
     "output_type": "stream",
     "text": [
      "Enter a string: Sukanya\n",
      "Vowels in the string: u a a "
     ]
    }
   ],
   "source": [
    "#16 To find and print all vowels present in a string\n",
    "# Function to find and print all vowels in a string\n",
    "def print_vowels(string):\n",
    "    vowels = \"aeiouAEIOU\"  # Define a string containing all vowels\n",
    "    # Iterate through each character in the string\n",
    "    for char in string:\n",
    "        # Check if the character is a vowel\n",
    "        if char in vowels:\n",
    "            print(char, end=\" \")  # Print the vowel\n",
    "\n",
    "# Input string from the user\n",
    "string = input(\"Enter a string: \")\n",
    "\n",
    "# Call the function to print vowels in the string\n",
    "print(\"Vowels in the string:\", end=\" \")\n",
    "print_vowels(string)\n"
   ]
  },
  {
   "cell_type": "code",
   "execution_count": 12,
   "metadata": {
    "colab": {
     "base_uri": "https://localhost:8080/"
    },
    "id": "JBL4FyU1jR_y",
    "outputId": "cb2b66f0-3c33-4a36-ff26-089c5a07fc57"
   },
   "outputs": [
    {
     "name": "stdout",
     "output_type": "stream",
     "text": [
      "Enter the x-coordinate of the first point: 45\n",
      "Enter the y-coordinate of the first point: 65\n",
      "Enter the x-coordinate of the second point: 85\n",
      "Enter the y-coordinate of the second point: 58\n",
      "The Euclidean distance between the two points is: 40.607881008493905\n"
     ]
    }
   ],
   "source": [
    "#17 to calculate Euclidean distance between two points (user defined)\n",
    "import math\n",
    "def euclidean_distance(x1, y1, x2, y2):\n",
    "    return math.sqrt((x2 - x1)**2 + (y2 - y1)**2)\n",
    "\n",
    "x1 = float(input(\"Enter the x-coordinate of the first point: \"))\n",
    "y1 = float(input(\"Enter the y-coordinate of the first point: \"))\n",
    "x2 = float(input(\"Enter the x-coordinate of the second point: \"))\n",
    "y2 = float(input(\"Enter the y-coordinate of the second point: \"))\n",
    "\n",
    "distance = euclidean_distance(x1, y1, x2, y2)\n",
    "print(\"The Euclidean distance between the two points is:\", distance)\n"
   ]
  },
  {
   "cell_type": "code",
   "execution_count": 1,
   "metadata": {},
   "outputs": [
    {
     "name": "stdout",
     "output_type": "stream",
     "text": [
      "Enter a list of strings separated by spaces: Nepal Bhutan Bangladesh India\n",
      "Enter the string to search in the list: Bhutan\n",
      "String 'Bhutan' found at index 1\n"
     ]
    }
   ],
   "source": [
    "#18a Function for linear search of a string in a list\n",
    "def linear_search(string, lst):\n",
    "    for i in range(len(lst)):\n",
    "        if lst[i] == string:\n",
    "            return f\"String '{string}' found at index {i}\"\n",
    "    return f\"String '{string}' not found in the list\"\n",
    "\n",
    "# Test the function\n",
    "my_list = input(\"Enter a list of strings separated by spaces: \").split()\n",
    "search_string = input(\"Enter the string to search in the list: \")\n",
    "\n",
    "result = linear_search(search_string, my_list)\n",
    "print(result)"
   ]
  },
  {
   "cell_type": "code",
   "execution_count": 16,
   "metadata": {},
   "outputs": [
    {
     "name": "stdout",
     "output_type": "stream",
     "text": [
      "Enter a list of numbers separated by spaces: 789 456 123 321 654 987 785 985 125 325 \n",
      "Enter the numbers to search in the list: 987\n",
      "Int '987' found at index 5\n"
     ]
    }
   ],
   "source": [
    "#18b Function for linear search of a number in a list\n",
    "def linear_search(int, lst):\n",
    "    for i in range(len(lst)):\n",
    "        if lst[i] == int:\n",
    "            return f\"Int '{int}' found at index {i}\"\n",
    "    return f\"Int '{int}' not found in the list\"\n",
    "\n",
    "# Test the function\n",
    "my_list = input(\"Enter a list of numbers separated by spaces: \").split()\n",
    "search_string = input(\"Enter the numbers to search in the list: \")\n",
    "\n",
    "result = linear_search(search_string, my_list)\n",
    "print(result)"
   ]
  },
  {
   "cell_type": "code",
   "execution_count": 13,
   "metadata": {
    "colab": {
     "base_uri": "https://localhost:8080/"
    },
    "id": "tb0DsLrMn4lD",
    "outputId": "96aa16fc-ea37-498e-f836-3ccfadf4a43b"
   },
   "outputs": [
    {
     "name": "stdout",
     "output_type": "stream",
     "text": [
      "Enter the list of numbers separated by spaces: 12 45 85 -85 -96\n",
      "The smallest number in the list is: -96\n"
     ]
    }
   ],
   "source": [
    "#19 To find the smallest number in a list\n",
    "\n",
    "# Get user input for the list of numbers\n",
    "numbers = [int(x) for x in input(\"Enter the list of numbers separated by spaces: \").split()]\n",
    "\n",
    "# Find the smallest number in the list\n",
    "smallest_number = min(numbers)\n",
    "\n",
    "print(\"The smallest number in the list is:\", smallest_number)"
   ]
  },
  {
   "cell_type": "code",
   "execution_count": 66,
   "metadata": {
    "colab": {
     "base_uri": "https://localhost:8080/"
    },
    "id": "EVR5Ykpuldhp",
    "outputId": "c32b68ea-a5a3-48a0-b334-5b253b83674f"
   },
   "outputs": [
    {
     "name": "stdout",
     "output_type": "stream",
     "text": [
      "Enter the list of numbers separated by spaces: 85 25 63\n",
      "The largest number in the list is: 85\n"
     ]
    }
   ],
   "source": [
    " #20 To find the largest number in a list\n",
    "\n",
    "# Get user input for the list of numbers\n",
    "numbers = [int(x) for x in input(\"Enter the list of numbers separated by spaces: \").split()]\n",
    "\n",
    "# Find the largest number in the list\n",
    "largest_number = max(numbers)\n",
    "\n",
    "print(\"The largest number in the list is:\", largest_number)\n"
   ]
  }
 ],
 "metadata": {
  "colab": {
   "provenance": []
  },
  "kernelspec": {
   "display_name": "Python 3 (ipykernel)",
   "language": "python",
   "name": "python3"
  },
  "language_info": {
   "codemirror_mode": {
    "name": "ipython",
    "version": 3
   },
   "file_extension": ".py",
   "mimetype": "text/x-python",
   "name": "python",
   "nbconvert_exporter": "python",
   "pygments_lexer": "ipython3",
   "version": "3.11.5"
  }
 },
 "nbformat": 4,
 "nbformat_minor": 1
}
